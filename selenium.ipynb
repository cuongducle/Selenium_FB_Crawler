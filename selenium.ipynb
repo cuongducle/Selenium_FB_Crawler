{
 "cells": [
  {
   "cell_type": "code",
   "execution_count": 1,
   "metadata": {},
   "outputs": [],
   "source": [
    "import json\n",
    "import os\n",
    "import sys\n",
    "import urllib.request\n",
    "import yaml\n",
    "import scraper.utils\n",
    "import argparse\n",
    "\n",
    "from selenium import webdriver\n",
    "from selenium.common.exceptions import NoSuchElementException\n",
    "from selenium.webdriver.chrome.options import Options\n",
    "from selenium.webdriver.common.by import By\n",
    "from selenium.webdriver.support import expected_conditions as EC\n",
    "from selenium.webdriver.support.ui import WebDriverWait\n",
    "from webdriver_manager.chrome import ChromeDriverManager"
   ]
  },
  {
   "cell_type": "code",
   "execution_count": 2,
   "metadata": {},
   "outputs": [],
   "source": [
    "def check_height():\n",
    "    new_height = driver.execute_script(\"return document.body.scrollHeight\")\n",
    "    return new_height != old_height"
   ]
  },
  {
   "cell_type": "code",
   "execution_count": 3,
   "metadata": {},
   "outputs": [],
   "source": [
    "def safe_find_element_by_id(driver, elem_id):\n",
    "    try:\n",
    "        return driver.find_element_by_id(elem_id)\n",
    "    except NoSuchElementException:\n",
    "        return None"
   ]
  },
  {
   "cell_type": "code",
   "execution_count": 4,
   "metadata": {},
   "outputs": [],
   "source": [
    "with open(\"selectors.json\") as a, open(\"params.json\") as b:\n",
    "    selectors = json.load(a)\n",
    "    params = json.load(b)\n",
    "\n",
    "firefox_profile_path = selectors.get(\"firefox_profile_path\")\n",
    "facebook_https_prefix = selectors.get(\"facebook_https_prefix\")\n",
    "facebook_link_body = selectors.get(\"facebook_link_body\")"
   ]
  },
  {
   "cell_type": "code",
   "execution_count": 5,
   "metadata": {},
   "outputs": [],
   "source": [
    "def login(email, password):\n",
    "    \"\"\" Logging into our own profile \"\"\"\n",
    "\n",
    "    try:\n",
    "        global driver\n",
    "\n",
    "        options = Options()\n",
    "\n",
    "        #  Code to disable notifications pop up of Chrome Browser\n",
    "        options.add_argument(\"--disable-notifications\")\n",
    "        options.add_argument(\"--disable-infobars\")\n",
    "        options.add_argument(\"--mute-audio\")\n",
    "        # options.add_argument(\"headless\")\n",
    "\n",
    "        try:\n",
    "            driver = webdriver.Chrome(\n",
    "                executable_path=ChromeDriverManager().install(), options=options\n",
    "            )\n",
    "        except Exception:\n",
    "            print(\"Error loading chrome webdriver \" + sys.exc_info()[0])\n",
    "            exit(1)\n",
    "\n",
    "        fb_path = facebook_https_prefix + facebook_link_body\n",
    "        driver.get(\"https://mbasic.facebook.com/\")\n",
    "        driver.maximize_window()\n",
    "\n",
    "        # filling the form\n",
    "        driver.find_element_by_name(\"email\").send_keys(email)\n",
    "        driver.find_element_by_name(\"pass\").send_keys(password)\n",
    "\n",
    "        try:\n",
    "            # clicking on login button\n",
    "            driver.find_element_by_id(\"loginbutton\").click()\n",
    "        except NoSuchElementException:\n",
    "            # Facebook new design\n",
    "            driver.find_element_by_name(\"login\").click()\n",
    "\n",
    "        # if your account uses multi factor authentication\n",
    "        mfa_code_input = utils.safe_find_element_by_id(driver, \"approvals_code\")\n",
    "\n",
    "        if mfa_code_input is None:\n",
    "            return\n",
    "\n",
    "        mfa_code_input.send_keys(input(\"Enter MFA code: \"))\n",
    "        driver.find_element_by_id(\"checkpointSubmitButton\").click()\n",
    "\n",
    "        # there are so many screens asking you to verify things. Just skip them all\n",
    "        while (\n",
    "            utils.safe_find_element_by_id(driver, \"checkpointSubmitButton\") is not None\n",
    "        ):\n",
    "            dont_save_browser_radio = utils.safe_find_element_by_id(driver, \"u_0_3\")\n",
    "            if dont_save_browser_radio is not None:\n",
    "                dont_save_browser_radio.click()\n",
    "\n",
    "            driver.find_element_by_id(\"checkpointSubmitButton\").click()\n",
    "\n",
    "    except Exception:\n",
    "        print(\"There's some error in log in.\")\n",
    "        print(sys.exc_info()[0])\n",
    "        exit(1)\n"
   ]
  },
  {
   "cell_type": "code",
   "execution_count": 6,
   "metadata": {},
   "outputs": [],
   "source": [
    "with open('credentials.yaml') as f:\n",
    "        email = f.readline().split(' ')[1].replace('\\n','')\n",
    "        password = f.readline().split(' ')[1].replace('\\n','')"
   ]
  },
  {
   "cell_type": "code",
   "execution_count": 7,
   "metadata": {},
   "outputs": [
    {
     "output_type": "stream",
     "name": "stderr",
     "text": [
      "[WDM] - Current google-chrome version is 87.0.4280\n",
      "[WDM] - Get LATEST driver version for 87.0.4280\n",
      " \n",
      "[WDM] - Driver [/home/hironeo/.wdm/drivers/chromedriver/linux64/87.0.4280.20/chromedriver] found in cache\n",
      "There's some error in log in.\n",
      "<class 'NameError'>\n"
     ]
    }
   ],
   "source": [
    "login(email, password)\n",
    "# driver.get('https://www.facebook.com/ducanhhbhn/friends')\n",
    "# scroll()"
   ]
  },
  {
   "cell_type": "code",
   "execution_count": 80,
   "metadata": {},
   "outputs": [],
   "source": [
    "driver.get(listpage[1])"
   ]
  },
  {
   "cell_type": "code",
   "execution_count": 22,
   "metadata": {},
   "outputs": [],
   "source": [
    "data = driver.find_element_by_xpath('//*[@id=\"jsc_c_e\"]/div/div/span/div/div')"
   ]
  },
  {
   "cell_type": "code",
   "execution_count": 23,
   "metadata": {},
   "outputs": [
    {
     "output_type": "execute_result",
     "data": {
      "text/plain": [
       "<selenium.webdriver.remote.webelement.WebElement (session=\"4cb206de9b9ed1e7df9a9aef5ecc434c\", element=\"f06f013d-eb19-4cf1-99ce-c8f301f05de5\")>"
      ]
     },
     "metadata": {},
     "execution_count": 23
    }
   ],
   "source": [
    "data"
   ]
  },
  {
   "cell_type": "code",
   "execution_count": 87,
   "metadata": {},
   "outputs": [
    {
     "output_type": "execute_result",
     "data": {
      "text/plain": [
       "[]"
      ]
     },
     "metadata": {},
     "execution_count": 87
    }
   ],
   "source": [
    "driver.find_elements_by_xpath(selectors.get(\"more_comment_replies\"))"
   ]
  },
  {
   "cell_type": "code",
   "execution_count": 58,
   "metadata": {},
   "outputs": [],
   "source": [
    "array = []\n",
    "def get_comment(link):\n",
    "    print(link)\n",
    "    global old_height\n",
    "    current_scrolls = 0\n",
    "    driver.get(link)\n",
    "    while True:\n",
    "        try:\n",
    "            cmts = driver.find_elements_by_xpath(\"//div [@data-testid='UFI2Comment/body']\")\n",
    "            for com in cmts:\n",
    "                array.append(com.text)\n",
    "                print(com.text)\n",
    "            if current_scrolls == total_scrolls:\n",
    "                return\n",
    "\n",
    "            old_height = driver.execute_script(\"return document.body.scrollHeight\")\n",
    "            driver.execute_script(\"window.scrollTo(0, document.body.scrollHeight);\")\n",
    "            WebDriverWait(driver, scroll_time, 0.005).until(\n",
    "                lambda driver: check_height()\n",
    "            )\n",
    "            current_scrolls += 1\n",
    "        except TimeoutException:\n",
    "            break\n",
    "\n",
    "    return"
   ]
  },
  {
   "cell_type": "code",
   "execution_count": 67,
   "metadata": {},
   "outputs": [],
   "source": [
    "listpage = ['https://www.facebook.com/nhungcaunoibathu',\n",
    "           'https://www.facebook.com/tran.thanh.ne',\n",
    "           'https://www.facebook.com/fc.khoimy',\n",
    "           'https://www.facebook.com/VoHoaiLinh',\n",
    "           'https://www.facebook.com/MTP.Fan',\n",
    "           'https://www.facebook.com/fan24h']"
   ]
  },
  {
   "cell_type": "code",
   "execution_count": 60,
   "metadata": {},
   "outputs": [
    {
     "output_type": "stream",
     "name": "stdout",
     "text": [
      "https://www.facebook.com/nhungcaunoibathu\n"
     ]
    }
   ],
   "source": [
    "get_comment(listpage[0])"
   ]
  },
  {
   "cell_type": "code",
   "execution_count": null,
   "metadata": {},
   "outputs": [],
   "source": [
    "with open(path,'w',encoding = 'utf-8') as f:\n",
    "    for cmt in array:\n",
    "        f.write(cmt)\n",
    "        f.write('\\n')"
   ]
  },
  {
   "cell_type": "code",
   "execution_count": null,
   "metadata": {},
   "outputs": [],
   "source": []
  }
 ],
 "metadata": {
  "kernelspec": {
   "display_name": "Python 3.6.9 64-bit ('bert': conda)",
   "language": "python",
   "name": "python36964bitbertcondafe76e7349f53486ca9029903b6e40edd"
  },
  "language_info": {
   "codemirror_mode": {
    "name": "ipython",
    "version": 3
   },
   "file_extension": ".py",
   "mimetype": "text/x-python",
   "name": "python",
   "nbconvert_exporter": "python",
   "pygments_lexer": "ipython3",
   "version": "3.6.9-final"
  }
 },
 "nbformat": 4,
 "nbformat_minor": 2
}